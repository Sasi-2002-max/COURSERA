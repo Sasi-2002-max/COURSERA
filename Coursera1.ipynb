{
  "metadata": {
    "kernelspec": {
      "name": "xpython",
      "display_name": "Python 3.13 (XPython)",
      "language": "python"
    },
    "language_info": {
      "file_extension": ".py",
      "mimetype": "text/x-python",
      "name": "python",
      "version": "3.13.1"
    }
  },
  "nbformat_minor": 5,
  "nbformat": 4,
  "cells": [
    {
      "id": "551a8379-43ee-4eec-98c7-4c58d189ae5f",
      "cell_type": "code",
      "source": "# SpaceX Launch Data Analysis\n\n",
      "metadata": {
        "trusted": true
      },
      "outputs": [],
      "execution_count": null
    },
    {
      "id": "41ad63d6-b071-4379-b4dd-90c4baf6b4d0",
      "cell_type": "code",
      "source": "## Introduction\n\nThis notebook explores SpaceX launch data retrieved from the SpaceX API.\nWe will analyze launch statistics, success rates, landing outcomes, and mission details.\nAdditionally, machine learning models will be applied to classify and predict launch outcomes based on various features.\n",
      "metadata": {
        "trusted": true
      },
      "outputs": [],
      "execution_count": null
    },
    {
      "id": "ea70f33c-6f7c-4a6c-8950-0dcd57148525",
      "cell_type": "code",
      "source": "## Data Science Languages\n\n- Python  \n- R  \n- SQL  \n- Julia  \n- Scala  \n- Java  \n- MATLAB",
      "metadata": {
        "trusted": true
      },
      "outputs": [],
      "execution_count": null
    },
    {
      "id": "53e3ac38-1ff8-485a-8953-f827fa3c47f5",
      "cell_type": "code",
      "source": "## Data Science Libraries\n\n- **Python:**  \n  - Pandas  \n  - NumPy  \n  - Matplotlib  \n  - Seaborn  \n  - Scikit-learn  \n  - TensorFlow  \n  - PyTorch  \n\n- **R:**  \n  - ggplot2  \n  - dplyr  \n  - caret  \n  - randomForest  \n\n- **Julia:**  \n  - DataFrames.jl  \n  - Flux.jl  \n\n",
      "metadata": {
        "trusted": true
      },
      "outputs": [],
      "execution_count": null
    },
    {
      "id": "fe83d636-6f3b-4781-ab17-509e73788f7a",
      "cell_type": "code",
      "source": "## Data Science Tools\n\n| Tool           | Description                          | Category          |\n|----------------|----------------------------------|-------------------|\n| Jupyter Notebook | Interactive coding environment     | IDE/Notebook      |\n| VS Code        | Source code editor with extensions | IDE               |\n| GitHub         | Version control and collaboration  | Version Control   |\n| Tableau        | Data visualization software         | Visualization     |\n| Power BI       | Business analytics and visualization | Visualization     |\n| Apache Spark   | Big data processing engine          | Big Data          |\n| Google Colab   | Cloud-based Jupyter notebook        | Cloud Platform    |\n",
      "metadata": {
        "trusted": true
      },
      "outputs": [],
      "execution_count": null
    },
    {
      "id": "bb1764b8-c1c2-4372-96d9-74f5ed294449",
      "cell_type": "code",
      "source": "## Arithmetic Expression Examples\n\nIn this section, we will explore basic arithmetic expressions in Python, including addition, subtraction, multiplication, division, and exponentiation.  \nThese examples will help you understand how to perform calculations and work with numerical data.\n",
      "metadata": {
        "trusted": true
      },
      "outputs": [],
      "execution_count": null
    },
    {
      "id": "a7de0591-e54a-4a43-93f9-f977072cbf77",
      "cell_type": "code",
      "source": "# Multiply two numbers\nproduct = 7 * 5\n\n# Add two numbers\nsum_result = 10 + 15\n\nprint(\"Product of 7 and 5 is:\", product)\nprint(\"Sum of 10 and 15 is:\", sum_result)\n",
      "metadata": {
        "trusted": true
      },
      "outputs": [
        {
          "name": "stdout",
          "output_type": "stream",
          "text": "Product of 7 and 5 is: 35\nSum of 10 and 15 is: 25\n"
        }
      ],
      "execution_count": 1
    },
    {
      "id": "3757f9f7-62b4-4237-816f-d412b6303fa3",
      "cell_type": "code",
      "source": "# Function to convert minutes to hours\ndef minutes_to_hours(minutes):\n    hours = minutes / 60\n    return hours\n\n# Example usage\nminutes = 135\nhours = minutes_to_hours(minutes)\nprint(f\"{minutes} minutes is equal to {hours} hours.\")\n",
      "metadata": {
        "trusted": true
      },
      "outputs": [],
      "execution_count": null
    }
  ]
}