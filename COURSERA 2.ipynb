{
  "metadata": {
    "kernelspec": {
      "name": "xpython",
      "display_name": "Python 3.13 (XPython)",
      "language": "python"
    },
    "language_info": {
      "file_extension": ".py",
      "mimetype": "text/x-python",
      "name": "python",
      "version": "3.13.1"
    }
  },
  "nbformat_minor": 5,
  "nbformat": 4,
  "cells": [
    {
      "id": "6cf9ecc8-37f5-403c-b3cc-938bf7c6db2f",
      "cell_type": "code",
      "source": "# Install yfinance if not already installed\n!pip install yfinance --quiet\n\n# Import libraries\nimport yfinance as yf\nimport pandas as pd\n\n# Create a Ticker object for Tesla\ntesla = yf.Ticker(\"TSLA\")\n\n# Extract historical market data\ntesla_data = tesla.history(period=\"max\")\n\n# Reset index to make Date a column\ntesla_data.reset_index(inplace=True)\n\n# Display the first few rows\ntesla_data.head()\n",
      "metadata": {
        "trusted": true
      },
      "outputs": [],
      "execution_count": null
    },
    {
      "id": "4b29b61c-1473-4dd4-9093-0e3f008f033b",
      "cell_type": "code",
      "source": "# Install required libraries (run once)\n!pip install requests beautifulsoup4 lxml --quiet\n\n# Import necessary libraries\nimport requests\nfrom bs4 import BeautifulSoup\nimport pandas as pd\n\n# Define URL for Tesla revenue data\nurl = \"https://www.macrotrends.net/stocks/charts/TSLA/tesla/revenue\"\n\n# Send GET request\nresponse = requests.get(url)\n\n# Parse the response using BeautifulSoup\nsoup = BeautifulSoup(response.text, \"lxml\")\n\n# Find all tables with class 'historical_data_table'\ntables = soup.find_all(\"table\", class_=\"historical_data_table table\")\n\n# Extract the second table which contains revenue data\nrevenue_table = tables[1]\n\n# Initialize empty list to store rows\ntesla_revenue = []\n\n# Loop through table rows and extract data\nfor row in revenue_table.find_all(\"tr\"):\n    cols = row.find_all(\"td\")\n    if len(cols) == 2:\n        date = cols[0].text.strip()\n        revenue = cols[1].text.strip().replace(\"$\", \"\").replace(\",\", \"\")\n        if revenue != \"\":\n            tesla_revenue.append({\"Date\": date, \"Revenue (USD Millions)\": float(revenue)})\n\n# Create DataFrame\ntesla_revenue_df = pd.DataFrame(tesla_revenue)\n\n# Display the first 5 rows\ntesla_revenue_df.head()\n",
      "metadata": {
        "trusted": true
      },
      "outputs": [],
      "execution_count": null
    },
    {
      "id": "e0024d20-6155-4426-b1a1-e7fd56cd84fa",
      "cell_type": "code",
      "source": "# Install yfinance if not already installed\n!pip install yfinance --quiet\n\n# Import libraries\nimport yfinance as yf\nimport pandas as pd\n\n# Create Ticker object for GameStop\ngme = yf.Ticker(\"GME\")\n\n# Download historical stock data\ngme_data = gme.history(period=\"max\")\n\n# Reset index to make Date a column\ngme_data.reset_index(inplace=True)\n\n# Display the first few rows\ngme_data.head()\n",
      "metadata": {
        "trusted": true
      },
      "outputs": [],
      "execution_count": null
    },
    {
      "id": "beae18e8-b4e2-465a-9cb8-da608fc5ea6c",
      "cell_type": "code",
      "source": "# Install necessary libraries (run once)\n!pip install requests beautifulsoup4 lxml --quiet\n\n# Import libraries\nimport requests\nfrom bs4 import BeautifulSoup\nimport pandas as pd\n\n# URL of GameStop revenue data on Macrotrends\nurl = \"https://www.macrotrends.net/stocks/charts/GME/gamestop/revenue\"\n\n# Send GET request\nresponse = requests.get(url)\n\n# Parse HTML content with BeautifulSoup\nsoup = BeautifulSoup(response.text, \"lxml\")\n\n# Find all tables with the class 'historical_data_table'\ntables = soup.find_all(\"table\", class_=\"historical_data_table table\")\n\n# The revenue table is usually the second one\nrevenue_table = tables[1]\n\n# Extract data\ngamestop_revenue = []\n\nfor row in revenue_table.find_all(\"tr\"):\n    cols = row.find_all(\"td\")\n    if len(cols) == 2:\n        date = cols[0].text.strip()\n        revenue = cols[1].text.strip().replace(\"$\", \"\").replace(\",\", \"\")\n        if revenue != \"\":\n            gamestop_revenue.append({\"Date\": date, \"Revenue (USD Millions)\": float(revenue)})\n\n# Convert to DataFrame\ngamestop_revenue_df = pd.DataFrame(gamestop_revenue)\n\n# Display first few rows\ngamestop_revenue_df.head()\n",
      "metadata": {
        "trusted": true
      },
      "outputs": [],
      "execution_count": null
    },
    {
      "id": "b4860073-cd06-400c-9c36-2a642eced525",
      "cell_type": "code",
      "source": "# Install Plotly if not already installed\n!pip install plotly --quiet\n\nimport plotly.graph_objects as go\nfrom plotly.subplots import make_subplots\nimport pandas as pd\nimport yfinance as yf\nimport requests\nfrom bs4 import BeautifulSoup\n\n# --- Step 1: Get Tesla Stock Data ---\ntesla = yf.Ticker(\"TSLA\")\ntesla_stock = tesla.history(period=\"max\")\ntesla_stock.reset_index(inplace=True)\n\n# --- Step 2: Get Tesla Revenue Data (Web scraping Macrotrends) ---\nurl = \"https://www.macrotrends.net/stocks/charts/TSLA/tesla/revenue\"\nresponse = requests.get(url)\nsoup = BeautifulSoup(response.text, \"lxml\")\ntables = soup.find_all(\"table\", class_=\"historical_data_table table\")\nrevenue_table = tables[1]\ntesla_revenue = []\n\nfor row in revenue_table.find_all(\"tr\"):\n    cols = row.find_all(\"td\")\n    if len(cols) == 2:\n        date = cols[0].text.strip()\n        revenue = cols[1].text.strip().replace(\"$\", \"\").replace(\",\", \"\")\n        if revenue != \"\":\n            tesla_revenue.append({\"Date\": date, \"Revenue\": float(revenue)})\n\ntesla_revenue_df = pd.DataFrame(tesla_revenue)\ntesla_revenue_df[\"Date\"] = pd.to_datetime(tesla_revenue_df[\"Date\"])\n\n# --- Step 3: Create subplot with two charts ---\nfig = make_subplots(rows=2, cols=1,\n                    shared_xaxes=True,\n                    subplot_titles=(\"Tesla Stock Price\", \"Tesla Revenue\"),\n                    vertical_spacing=0.2)\n\n# Plot Tesla stock closing price\nfig.add_trace(\n    go.Scatter(\n        x=tesla_stock['Date'],\n        y=tesla_stock['Close'],\n        name='Closing Price',\n        line=dict(color='blue')\n    ), row=1, col=1\n)\n\n# Plot Tesla revenue\nfig.add_trace(\n    go.Bar(\n        x=tesla_revenue_df['Date'],\n        y=tesla_revenue_df['Revenue'],\n        name='Revenue',\n        marker_color='green'\n    ), row=2, col=1\n)\n\n# Update layout\nfig.update_layout(\n    height=700,\n    showlegend=False,\n    title_text=\"Tesla Stock Price and Revenue Dashboard\",\n    xaxis_title=\"Date\",\n    yaxis_title=\"Price (USD)\",\n    xaxis2_title=\"Date\",\n    yaxis2_title=\"Revenue (Million USD)\",\n    template=\"plotly_white\"\n)\n\nfig.show()\n",
      "metadata": {
        "trusted": true
      },
      "outputs": [],
      "execution_count": null
    },
    {
      "id": "bbe76ab2-e7bf-4e5b-9a54-0565f978caef",
      "cell_type": "code",
      "source": "# Install Plotly if not already installed\n!pip install plotly --quiet\n\nimport plotly.graph_objects as go\nfrom plotly.subplots import make_subplots\nimport pandas as pd\nimport yfinance as yf\nimport requests\nfrom bs4 import BeautifulSoup\n\n# --- Step 1: Get GameStop Stock Data ---\ngme = yf.Ticker(\"GME\")\ngme_stock = gme.history(period=\"max\")\ngme_stock.reset_index(inplace=True)\n\n# --- Step 2: Get GameStop Revenue Data (Web scraping Macrotrends) ---\nurl = \"https://www.macrotrends.net/stocks/charts/GME/gamestop/revenue\"\nresponse = requests.get(url)\nsoup = BeautifulSoup(response.text, \"lxml\")\ntables = soup.find_all(\"table\", class_=\"historical_data_table table\")\nrevenue_table = tables[1]\ngamestop_revenue = []\n\nfor row in revenue_table.find_all(\"tr\"):\n    cols = row.find_all(\"td\")\n    if len(cols) == 2:\n        date = cols[0].text.strip()\n        revenue = cols[1].text.strip().replace(\"$\", \"\").replace(\",\", \"\")\n        if revenue != \"\":\n            gamestop_revenue.append({\"Date\": date, \"Revenue\": float(revenue)})\n\ngamestop_revenue_df = pd.DataFrame(gamestop_revenue)\ngamestop_revenue_df[\"Date\"] = pd.to_datetime(gamestop_revenue_df[\"Date\"])\n\n# --- Step 3: Create subplot with two charts ---\nfig = make_subplots(rows=2, cols=1,\n                    shared_xaxes=True,\n                    subplot_titles=(\"GameStop Stock Price\", \"GameStop Revenue\"),\n                    vertical_spacing=0.2)\n\n# Plot GameStop stock closing price\nfig.add_trace(\n    go.Scatter(\n        x=gme_stock['Date'],\n        y=gme_stock['Close'],\n        name='Closing Price',\n        line=dict(color='red')\n    ), row=1, col=1\n)\n\n# Plot GameStop revenue\nfig.add_trace(\n    go.Bar(\n        x=gamestop_revenue_df['Date'],\n        y=gamestop_revenue_df['Revenue'],\n        name='Revenue',\n        marker_color='orange'\n    ), row=2, col=1\n)\n\n# Update layout\nfig.update_layout(\n    height=700,\n    showlegend=False,\n    title_text=\"GameStop Stock Price and Revenue Dashboard\",\n    xaxis_title=\"Date\",\n    yaxis_title=\"Price (USD)\",\n    xaxis2_title=\"Date\",\n    yaxis2_title=\"Revenue (Million USD)\",\n    template=\"plotly_white\"\n)\n\nfig.show()\n",
      "metadata": {
        "trusted": true
      },
      "outputs": [],
      "execution_count": null
    },
    {
      "id": "b3d41062-8367-4391-ae3c-e27c1a29024b",
      "cell_type": "code",
      "source": "",
      "metadata": {
        "trusted": true
      },
      "outputs": [],
      "execution_count": null
    }
  ]
}